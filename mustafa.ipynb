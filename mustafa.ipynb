{
 "cells": [
  {
   "cell_type": "code",
   "execution_count": 1,
   "metadata": {},
   "outputs": [],
   "source": [
    "import os\n",
    "import sys\n",
    "sys.path.append('C:/Users/myese/AppData/Local/Programs/Python/Python37/Lib/site-packages')\n",
    "import numpy as np\n",
    "import random\n",
    "import rsa"
   ]
  },
  {
   "cell_type": "code",
   "execution_count": 2,
   "metadata": {},
   "outputs": [],
   "source": [
    "pub_k1 = rsa.PublicKey(402394248802762560784459411647796431108620322919897426002417858465984510150839043308712123310510922610690378085519407742502585978563438101321191019034005392771936629869360205383247721026151449660543966528254014636648532640397857580791648563954248342700568953634713286153354659774351731627683020456167612375777, 3)\n",
    "pub_k2 = rsa.PublicKey(402394248802762560784459411647796431108620322919897426002417858465984510150839043308712123310510922610690378085519407742502585978563438101321191019034005392771936629869360205383247721026151449660543966528254014636648532640397857580791648563954248342700568953634713286153354659774351731627683020456167612375777, 65537)\n"
   ]
  },
  {
   "cell_type": "code",
   "execution_count": 4,
   "metadata": {},
   "outputs": [
    {
     "data": {
      "text/plain": [
       "3"
      ]
     },
     "execution_count": 4,
     "metadata": {},
     "output_type": "execute_result"
    }
   ],
   "source": [
    "pub_k1.e"
   ]
  },
  {
   "cell_type": "code",
   "execution_count": 73,
   "metadata": {},
   "outputs": [],
   "source": [
    "pubk, prvk = rsa.newkeys(nbits = 1024) # 1024 --> 117 characters, 128 --> 5 chars"
   ]
  },
  {
   "cell_type": "code",
   "execution_count": 74,
   "metadata": {},
   "outputs": [
    {
     "data": {
      "text/plain": [
       "PublicKey(101549315175183138155789901329620954698894115375134671605067005130610106158051692796577292722659812697749324254389141950955082664473513162626875614408977020490678880041360688136234174756581480240133633722395763543740191770986356224757217425201905754263053235539164795751579988210387271106430066089334162766479, 65537)"
      ]
     },
     "execution_count": 74,
     "metadata": {},
     "output_type": "execute_result"
    }
   ],
   "source": [
    "pubk"
   ]
  },
  {
   "cell_type": "code",
   "execution_count": 75,
   "metadata": {},
   "outputs": [
    {
     "data": {
      "text/plain": [
       "PrivateKey(101549315175183138155789901329620954698894115375134671605067005130610106158051692796577292722659812697749324254389141950955082664473513162626875614408977020490678880041360688136234174756581480240133633722395763543740191770986356224757217425201905754263053235539164795751579988210387271106430066089334162766479, 65537, 818133854349401055072051938630695089506936431604606658948004618901721715236451070335731122229647086446002154604535864475094734986984679644582301686515058154733322207433989129258813689239714077826052475294337105849889547217742009951282491312724989358609518929256862106172478902537394702074648752312375400833, 35565913826765758919783463942773771512536861380294636459668614760811256489050849187379924438801436381860590401952508458506211660773706864871593896697393698222997181, 2855242681793836009280888392524122172020892800258839363220119823946769898636716172326257514839722549145880400748905807936274150309452650813548859)"
      ]
     },
     "execution_count": 75,
     "metadata": {},
     "output_type": "execute_result"
    }
   ],
   "source": [
    "prvk"
   ]
  },
  {
   "cell_type": "code",
   "execution_count": 86,
   "metadata": {},
   "outputs": [],
   "source": [
    "message = b'hello world fjlksafjlkdsajflkdsajflkdsa;ffdsafdjsalkfjkewqjf oipjadslkfj lkdsajf lkads jhflkjds dsahgdsafjds dsahgdsa'\n",
    "ciphertxt = rsa.encrypt(message, pubk)\n",
    "plaintxt = rsa.decrypt(ciphertxt, prvk)"
   ]
  },
  {
   "cell_type": "code",
   "execution_count": 79,
   "metadata": {},
   "outputs": [
    {
     "name": "stdout",
     "output_type": "stream",
     "text": [
      "b'r\\xc6\\n\\xa2\\xe9\\xfe\\xd1\\x86\\x08M\\xd8qR}\\x18b\\xe6\\xcc\\xa2\\xc8\\rgu#\\xe7[=Qz\\x9bt\\x84\\xb4\\xe4jT-<\\xdc\\x11\\xf4\\xb1\\xdd\\x8d\\xa4i\\\\W>#\\rOl}\\xe8)\\x1e\\x87{x\\x80t\\x1d\\xa9\\xa0\\xfc\\x16G\\xdf\\xb7.N\\xb8\\xe0iA\\x04\\x90\\xaco\\x14TZ\\xad\\x99\\x8e\\xa0\\xe8c\\xb1S\\xe5a\\x89\\xe0\\xc4\\x8a\\xb4#hDa\\x8a\\xd0o\\x07\\x12y\\xc4\\xb8q\\xc1\\x1f\\xe8\\xb7\\xb4\\xd4N\\x88\\x0c\\xa2J\\xd0\\xe3\\xc0\\x1b\\xdb\\xd9'\n",
      "b'hello world fjlksafjlkdsajflkdsajflkdsa;ffdsafdjsalkfjkewqjf oipjadslkfj lkdsajf lkads jhflkjds dsahgdsa'\n"
     ]
    }
   ],
   "source": [
    "print(ciphertxt)\n",
    "print(plaintxt)"
   ]
  },
  {
   "cell_type": "code",
   "execution_count": 52,
   "metadata": {},
   "outputs": [],
   "source": [
    "# Bezout's Theorem\n",
    "# let e1,e2 = 3,65537\n",
    "# 21846* 3 = 65538\n",
    "# xe1 + ye2 = 1\n",
    "# 21846(3) + -1(65537) = 1\n",
    "x = 21846\n",
    "y = -1"
   ]
  },
  {
   "cell_type": "code",
   "execution_count": null,
   "metadata": {},
   "outputs": [],
   "source": [
    "e1^-1 mod e2 = s1\n",
    "e1s1 = 1(mod e2)\n"
   ]
  },
  {
   "cell_type": "code",
   "execution_count": 93,
   "metadata": {},
   "outputs": [],
   "source": [
    "from math import gcd\n",
    "def egcd(a, b):\n",
    "    if a == 0:\n",
    "        return (b, 0, 1)\n",
    "    else:\n",
    "        g, y, x = egcd(b % a, a)\n",
    "        return (g, x - (b // a) * y, y)\n",
    "\n",
    "def modinv(a, m):\n",
    "    g, x, y = egcd(a, m)\n",
    "    if g != 1:\n",
    "        raise ValueError('Modular inverse does not exist.')\n",
    "    else:\n",
    "        return x % m"
   ]
  },
  {
   "cell_type": "code",
   "execution_count": 94,
   "metadata": {},
   "outputs": [
    {
     "name": "stdout",
     "output_type": "stream",
     "text": [
      "3\n",
      "-2.0\n"
     ]
    }
   ],
   "source": [
    "# xe1 + ye2 = 1\n",
    "e1 = 5\n",
    "e2 = 7\n",
    "s1 = modinv(e1,e2) # 3 --------- 5*3 = 1 mod 7\n",
    "s2 = (gcd(e1,e2) - e1 * s1) / e2 # -2 ------------- # (1 - xe1)/e2 = y\n",
    "print(s1)\n",
    "print(s2)"
   ]
  }
 ],
 "metadata": {
  "kernelspec": {
   "display_name": "Python 3",
   "language": "python",
   "name": "python3"
  },
  "language_info": {
   "codemirror_mode": {
    "name": "ipython",
    "version": 3
   },
   "file_extension": ".py",
   "mimetype": "text/x-python",
   "name": "python",
   "nbconvert_exporter": "python",
   "pygments_lexer": "ipython3",
   "version": "3.7.4"
  }
 },
 "nbformat": 4,
 "nbformat_minor": 2
}
