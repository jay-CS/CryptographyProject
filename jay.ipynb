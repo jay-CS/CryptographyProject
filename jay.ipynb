{
 "cells": [
  {
   "cell_type": "code",
   "execution_count": null,
   "source": [
    "import base64\n",
    "import numpy as np\n",
    "import random\n",
    "import rsa\n",
    "\n",
    "\n",
    "def attack(c1,c2,e1,e2,N):\n",
    "    \n",
    "    return 0\n",
    "\n",
    "\n",
    "def encrypt(message):\n",
    "    m_int = int(base64.b64encode(message.encode(\"ASCII\")).hex(),base = 16)\n",
    "    return m_int\n",
    "\n",
    "# The decrypted ciphertext needs to be the resulting message after undergoing the \n",
    "# common modulus attack algorithm. Ciphertext must be an int!\n",
    "def decrypt(ciphertext):\n",
    "    plaintext = base64.b64decode(bytes.fromhex(hex(ciphertext)[2:]).decode(\"ASCII\"))\n",
    "    return plaintext\n",
    "\n",
    "#TODO try using larger numbers like 2048 bit and see if it works\n",
    "\n",
    "#encoding ciphertext\n",
    "# s = \"Beispieltext\"\n",
    "# s_h_x = base64.b64encode(s.encode(\"ASCII\")).hex()\n",
    "# print(s_h_x)\n",
    "# #decoding ciphertext\n",
    "# i_x = int(s_h_x,base = 16)\n",
    "# print(i_x)\n",
    "# I got 205425602805833558906173513508033709272535152385063523717374966166828327746335183200430848916267302274113009813087406984304666443494047439511650193206035438356876437372761576599841427984789311488154947560638769175405423244880999028215202508182058731821398347713988005319120190149278841116245258\n",
    "# from the Common Modolus attack algorithm\n",
    "# h_x = hex(205425602805833558906173513508033709272535152385063523717374966166828327746335183200430848916267302274113009813087406984304666443494047439511650193206035438356876437372761576599841427984789311488154947560638769175405423244880999028215202508182058731821398347713988005319120190149278841116245258)\n",
    "# print(h_x)\n",
    "# a_x = bytes.fromhex(h_x[2:]).decode(\"ASCII\")\n",
    "# print(a_x)\n",
    "# p_x = base64.b64decode(a_x)\n",
    "# print(p_x)\n",
    "#a_x = base64.b64decode(bytes.fromhex(h_x[2:]).decode(\"ASCII\"))\n",
    "# print(a_x)"
   ],
   "outputs": [],
   "metadata": {}
  },
  {
   "cell_type": "code",
   "execution_count": null,
   "source": [],
   "outputs": [],
   "metadata": {}
  }
 ],
 "metadata": {
  "orig_nbformat": 4,
  "language_info": {
   "name": "python"
  }
 },
 "nbformat": 4,
 "nbformat_minor": 2
}