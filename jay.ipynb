{
 "cells": [
  {
   "cell_type": "code",
   "execution_count": 8,
   "source": [
    "import base64\n",
    "import numpy as np\n",
    "import random\n",
    "import rsa\n",
    "\n",
    "#ORIGINAL FUNCTION FROM THE WEBSITE\n",
    "#Extended euclidian aglorithm and modular inverse\n",
    "def egcd(a, b):\n",
    "    if a == 0:\n",
    "        return (b, 0, 1)\n",
    "    else:\n",
    "        g, y, x = egcd(b % a, a)\n",
    "        \n",
    "        return (g, x - (b // a) * y, y)\n",
    "    \n",
    "def modinv(a, m):\n",
    "    g, x, y = egcd(a, m)\n",
    "    print(g,x,y)\n",
    "    if g != 1:\n",
    "        raise ValueError('Modular inverse does not exist.')\n",
    "    else:\n",
    "        return x % m\n",
    "\n",
    "def attack(c1,c2,e1,e2,N):\n",
    "    \n",
    "    return 0\n",
    "\n",
    "\n",
    "def encrypt(message):\n",
    "    m_int = int(base64.b64encode(message.encode(\"ASCII\")).hex(),base = 16)\n",
    "    return m_int\n",
    "\n",
    "# The decrypted ciphertext needs to be the resulting message after undergoing the \n",
    "# common modulus attack algorithm. Ciphertext must be an int!\n",
    "def decrypt(ciphertext):\n",
    "    plaintext = base64.b64decode(bytes.fromhex(hex(ciphertext)[2:]).decode(\"ASCII\"))\n",
    "    return plaintext\n",
    "\n",
    "#TODO try using larger numbers like 2048 bit and see if it works\n",
    "\n",
    "#encoding ciphertext\n",
    "s = \"Beispieltext\"\n",
    "print(base64.b64encode(s.encode(\"ASCII\")))\n",
    "s_h_x = base64.b64encode(s.encode(\"ASCII\")).hex()\n",
    "print(s_h_x)\n",
    "#decoding ciphertext\n",
    "i_x = int(s_h_x,base = 16)\n",
    "print(i_x)\n",
    "# I got 205425602805833558906173513508033709272535152385063523717374966166828327746335183200430848916267302274113009813087406984304666443494047439511650193206035438356876437372761576599841427984789311488154947560638769175405423244880999028215202508182058731821398347713988005319120190149278841116245258\n",
    "# from the Common Modolus attack algorithm\n",
    "h_x = hex(i_x)\n",
    "print(h_x)\n",
    "a_x = bytes.fromhex(h_x[2:])\n",
    "print(a_x)\n",
    "p_x = base64.b64decode(a_x)\n",
    "print(p_x)\n",
    "a_x = base64.b64decode(a_x).decode(\"ASCII\")\n",
    "print(a_x)\n",
    "\n",
    "print(base64.b64encode(\"Hello World\".encode(\"ASCII\")))\n"
   ],
   "outputs": [
    {
     "output_type": "stream",
     "name": "stdout",
     "text": [
      "b'QmVpc3BpZWx0ZXh0'\n",
      "516d5670633342705a5778305a586830\n",
      "108235181207639582495826983402300008496\n",
      "0x516d5670633342705a5778305a586830\n",
      "b'QmVpc3BpZWx0ZXh0'\n",
      "b'Beispieltext'\n",
      "Beispieltext\n",
      "b'SGVsbG8gV29ybGQ='\n"
     ]
    }
   ],
   "metadata": {}
  },
  {
   "cell_type": "code",
   "execution_count": 11,
   "source": [
    "s = \"Hello World\"\n",
    "print(base64.b64encode(s.encode(\"ASCII\")))\n",
    "s_h_x = base64.b64encode(s.encode(\"ASCII\")).hex()\n",
    "print(s_h_x)\n",
    "#decoding ciphertext\n",
    "i_x = int(s_h_x,base = 16)\n",
    "c1 = (i_x**3) % 18602277207811751076606742588445041437663215645218996212580997622555973121383773546841255512099259369711623636553089186982121992749863592377286585388302464389798789952267226322372556776486756867006840779539175507594761818590345189884039460082397521984645873518820099407291139165514114662918193783807330429143402335138688919989637345711065175556679321419810549150166115283228404931785906449251171734423119451357287414708786809376462447255680290829939281859605941251990988695421097089258335444071854303899375107392518475467266606154741608825551694293958902890386893759878614888210847295445536320077277470012107946372479\n",
    "c2 = (i_x**65537) % 18602277207811751076606742588445041437663215645218996212580997622555973121383773546841255512099259369711623636553089186982121992749863592377286585388302464389798789952267226322372556776486756867006840779539175507594761818590345189884039460082397521984645873518820099407291139165514114662918193783807330429143402335138688919989637345711065175556679321419810549150166115283228404931785906449251171734423119451357287414708786809376462447255680290829939281859605941251990988695421097089258335444071854303899375107392518475467266606154741608825551694293958902890386893759878614888210847295445536320077277470012107946372479\n",
    "c1,c2"
   ],
   "outputs": [
    {
     "output_type": "stream",
     "name": "stdout",
     "text": [
      "b'SGVsbG8gV29ybGQ='\n",
      "5347567362473867563239796247513d\n"
     ]
    },
    {
     "output_type": "execute_result",
     "data": {
      "text/plain": [
       "(1356437131272213400272979851491737844838768022509913563591215263532951082463840475516441671037071528341436052504997,\n",
       " 8723827854355520154255521202011350235246735510542850762665257920566551699972079030484555098745094443369777721254236964176934059583191911899875271578949721659697080437077623852528445367555725342507169078705823644975482282704967362902378698511528862034506181645797600899730978607780244514135015001073043315414422405467335062562641216748487909671537462217703020756081580950899441347650340884036009876293756516131628577905723504822722900694653212086835386436223051129106522947829336177567282235302050374090975016952468962500081099824617287401691813167954963834633732353157101886377738822316136754274578408967088085628860)"
      ]
     },
     "metadata": {},
     "execution_count": 11
    }
   ],
   "metadata": {}
  }
 ],
 "metadata": {
  "orig_nbformat": 4,
  "language_info": {
   "name": "python",
   "version": "3.9.6",
   "mimetype": "text/x-python",
   "codemirror_mode": {
    "name": "ipython",
    "version": 3
   },
   "pygments_lexer": "ipython3",
   "nbconvert_exporter": "python",
   "file_extension": ".py"
  },
  "kernelspec": {
   "name": "python3",
   "display_name": "Python 3.9.6 64-bit"
  },
  "interpreter": {
   "hash": "aee8b7b246df8f9039afb4144a1f6fd8d2ca17a180786b69acc140d282b71a49"
  }
 },
 "nbformat": 4,
 "nbformat_minor": 2
}